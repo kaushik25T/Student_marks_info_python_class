{
 "cells": [
  {
   "cell_type": "code",
   "execution_count": 32,
   "metadata": {},
   "outputs": [],
   "source": [
    "class Marks:\n",
    "    physics=None\n",
    "    chemistry=None\n",
    "    maths=None\n",
    "    \n",
    "    def marks(self,p,c,m):\n",
    "        self.physics=p\n",
    "        self.chemistry=c\n",
    "        self.maths=m\n",
    "        self.total_marks=self.physics+self.chemistry+self.maths\n",
    "        print(\"Total marks is \" ,self.total_marks)\n",
    "        print(\"percentage is \", (self.total_marks*100)/300)\n",
    "        \n",
    "    \n",
    "    "
   ]
  },
  {
   "cell_type": "code",
   "execution_count": 33,
   "metadata": {},
   "outputs": [],
   "source": [
    "class Student(Marks):\n",
    "    name=None\n",
    "    Roll_no=None\n",
    "    \n",
    "    def info(self,n,r):\n",
    "        self.name=n\n",
    "        self.Roll_no=r\n",
    "        print(\"Nmae is \" ,self.name)\n",
    "        print(\"Roll no is \" ,self.Roll_no)"
   ]
  },
  {
   "cell_type": "code",
   "execution_count": 34,
   "metadata": {},
   "outputs": [
    {
     "name": "stdout",
     "output_type": "stream",
     "text": [
      "Nmae is  kauhsik\n",
      "Roll no is  34\n",
      "Total marks is  288\n",
      "percentage is  96.0\n",
      "Nmae is  sachin\n",
      "Roll no is  28\n",
      "Total marks is  178\n",
      "percentage is  59.333333333333336\n"
     ]
    }
   ],
   "source": [
    "kaushik=Student()\n",
    "kaushik.info(\"kauhsik\",34)\n",
    "kaushik.marks(90,98,100)\n",
    "sachin=Student()\n",
    "sachin.info(\"sachin\",28)\n",
    "sachin.marks(10,90,78)"
   ]
  },
  {
   "cell_type": "code",
   "execution_count": null,
   "metadata": {},
   "outputs": [],
   "source": []
  }
 ],
 "metadata": {
  "kernelspec": {
   "display_name": "Python 3",
   "language": "python",
   "name": "python3"
  },
  "language_info": {
   "codemirror_mode": {
    "name": "ipython",
    "version": 3
   },
   "file_extension": ".py",
   "mimetype": "text/x-python",
   "name": "python",
   "nbconvert_exporter": "python",
   "pygments_lexer": "ipython3",
   "version": "3.7.4"
  }
 },
 "nbformat": 4,
 "nbformat_minor": 2
}
